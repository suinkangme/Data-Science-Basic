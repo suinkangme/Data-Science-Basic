{
 "cells": [
  {
   "cell_type": "markdown",
   "metadata": {
    "id": "3cbb7fRy-eyr"
   },
   "source": [
    "# Artificial Neural Network\n",
    "* Use Regression"
   ]
  },
  {
   "cell_type": "markdown",
   "metadata": {
    "id": "8sNDnxE2-pwE"
   },
   "source": [
    "### Importing the libraries"
   ]
  },
  {
   "cell_type": "code",
   "execution_count": 1,
   "metadata": {
    "id": "lxChR1Rk-umf"
   },
   "outputs": [],
   "source": [
    "import numpy as np\n",
    "import pandas as pd\n",
    "import tensorflow as tf "
   ]
  },
  {
   "cell_type": "code",
   "execution_count": 2,
   "metadata": {
    "colab": {
     "base_uri": "https://localhost:8080/",
     "height": 34
    },
    "id": "uBTqR3nacj0e",
    "outputId": "4c0bd183-e424-429a-9fba-ceb841c06888"
   },
   "outputs": [
    {
     "data": {
      "text/plain": [
       "'2.12.0'"
      ]
     },
     "execution_count": 2,
     "metadata": {},
     "output_type": "execute_result"
    }
   ],
   "source": [
    "tf.__version__"
   ]
  },
  {
   "cell_type": "markdown",
   "metadata": {
    "id": "AG3FQEch-yuA"
   },
   "source": [
    "## Part 1 - Data Preprocessing"
   ]
  },
  {
   "cell_type": "markdown",
   "metadata": {
    "id": "-4zq8Mza_D9O"
   },
   "source": [
    "### Importing the dataset"
   ]
  },
  {
   "cell_type": "code",
   "execution_count": 3,
   "metadata": {
    "id": "B9CV13Co_HHM"
   },
   "outputs": [
    {
     "data": {
      "text/html": [
       "<div>\n",
       "<style scoped>\n",
       "    .dataframe tbody tr th:only-of-type {\n",
       "        vertical-align: middle;\n",
       "    }\n",
       "\n",
       "    .dataframe tbody tr th {\n",
       "        vertical-align: top;\n",
       "    }\n",
       "\n",
       "    .dataframe thead th {\n",
       "        text-align: right;\n",
       "    }\n",
       "</style>\n",
       "<table border=\"1\" class=\"dataframe\">\n",
       "  <thead>\n",
       "    <tr style=\"text-align: right;\">\n",
       "      <th></th>\n",
       "      <th>AT</th>\n",
       "      <th>V</th>\n",
       "      <th>AP</th>\n",
       "      <th>RH</th>\n",
       "      <th>PE</th>\n",
       "    </tr>\n",
       "  </thead>\n",
       "  <tbody>\n",
       "    <tr>\n",
       "      <th>0</th>\n",
       "      <td>14.96</td>\n",
       "      <td>41.76</td>\n",
       "      <td>1024.07</td>\n",
       "      <td>73.17</td>\n",
       "      <td>463.26</td>\n",
       "    </tr>\n",
       "    <tr>\n",
       "      <th>1</th>\n",
       "      <td>25.18</td>\n",
       "      <td>62.96</td>\n",
       "      <td>1020.04</td>\n",
       "      <td>59.08</td>\n",
       "      <td>444.37</td>\n",
       "    </tr>\n",
       "    <tr>\n",
       "      <th>2</th>\n",
       "      <td>5.11</td>\n",
       "      <td>39.40</td>\n",
       "      <td>1012.16</td>\n",
       "      <td>92.14</td>\n",
       "      <td>488.56</td>\n",
       "    </tr>\n",
       "    <tr>\n",
       "      <th>3</th>\n",
       "      <td>20.86</td>\n",
       "      <td>57.32</td>\n",
       "      <td>1010.24</td>\n",
       "      <td>76.64</td>\n",
       "      <td>446.48</td>\n",
       "    </tr>\n",
       "    <tr>\n",
       "      <th>4</th>\n",
       "      <td>10.82</td>\n",
       "      <td>37.50</td>\n",
       "      <td>1009.23</td>\n",
       "      <td>96.62</td>\n",
       "      <td>473.90</td>\n",
       "    </tr>\n",
       "  </tbody>\n",
       "</table>\n",
       "</div>"
      ],
      "text/plain": [
       "      AT      V       AP     RH      PE\n",
       "0  14.96  41.76  1024.07  73.17  463.26\n",
       "1  25.18  62.96  1020.04  59.08  444.37\n",
       "2   5.11  39.40  1012.16  92.14  488.56\n",
       "3  20.86  57.32  1010.24  76.64  446.48\n",
       "4  10.82  37.50  1009.23  96.62  473.90"
      ]
     },
     "execution_count": 3,
     "metadata": {},
     "output_type": "execute_result"
    }
   ],
   "source": [
    "dataset = pd.read_excel('Folds5x2_pp.xlsx')\n",
    "dataset.head()"
   ]
  },
  {
   "cell_type": "code",
   "execution_count": 4,
   "metadata": {},
   "outputs": [],
   "source": [
    "x = dataset.iloc[:, :-1].values\n",
    "y = dataset.iloc[:, -1].values"
   ]
  },
  {
   "cell_type": "markdown",
   "metadata": {
    "id": "VC6omXel_Up0"
   },
   "source": [
    "### Splitting the dataset into the Training set and Test set"
   ]
  },
  {
   "cell_type": "code",
   "execution_count": 5,
   "metadata": {
    "id": "L5edeb2r_agx"
   },
   "outputs": [],
   "source": [
    "from sklearn.model_selection import train_test_split\n",
    "x_train, x_test, y_train, y_test = train_test_split(x, y, test_size = 0.2, random_state = 0)"
   ]
  },
  {
   "cell_type": "markdown",
   "metadata": {
    "id": "_mSLlAT9_eyI"
   },
   "source": [
    "## Part 2 - Building the ANN"
   ]
  },
  {
   "cell_type": "markdown",
   "metadata": {
    "id": "CsBULd_f_wLY"
   },
   "source": [
    "### Initializing the ANN"
   ]
  },
  {
   "cell_type": "code",
   "execution_count": 6,
   "metadata": {
    "id": "J6Hd97Ls__Nz"
   },
   "outputs": [],
   "source": [
    "ann = tf.keras.models.Sequential()"
   ]
  },
  {
   "cell_type": "markdown",
   "metadata": {
    "id": "iitAFJS_ABUn"
   },
   "source": [
    "### Adding the input layer and the first hidden layer"
   ]
  },
  {
   "cell_type": "code",
   "execution_count": 7,
   "metadata": {
    "id": "ksO_Vv40AHix"
   },
   "outputs": [],
   "source": [
    "ann.add(tf.keras.layers.Dense(units=6, activation='relu'))"
   ]
  },
  {
   "cell_type": "markdown",
   "metadata": {
    "id": "-lb4kK_wAKbs"
   },
   "source": [
    "### Adding the second hidden layer"
   ]
  },
  {
   "cell_type": "code",
   "execution_count": 8,
   "metadata": {
    "id": "c2357OqEAQOQ"
   },
   "outputs": [],
   "source": [
    "ann.add(tf.keras.layers.Dense(units=6, activation='relu'))"
   ]
  },
  {
   "cell_type": "markdown",
   "metadata": {
    "id": "jwMOmKb3AdBY"
   },
   "source": [
    "### Adding the output layer\n",
    "* NO activation function NEEDED since we are doing Regression\n",
    "* sigmoid, soft max used in Classification"
   ]
  },
  {
   "cell_type": "code",
   "execution_count": 12,
   "metadata": {
    "id": "YFATpzsUAkLL"
   },
   "outputs": [],
   "source": [
    "# NO activation function - predict a continuous real number as a final output\n",
    "ann.add(tf.keras.layers.Dense(units=1))"
   ]
  },
  {
   "cell_type": "markdown",
   "metadata": {
    "id": "fq7e4fF6A1yy"
   },
   "source": [
    "## Part 3 - Training the ANN"
   ]
  },
  {
   "cell_type": "markdown",
   "metadata": {
    "id": "qDeylAs2An25"
   },
   "source": [
    "### Compiling the ANN"
   ]
  },
  {
   "cell_type": "code",
   "execution_count": 13,
   "metadata": {
    "id": "pesgbWlCAtB4"
   },
   "outputs": [],
   "source": [
    "# loss(cost function) function : MSE \n",
    "ann.compile(optimizer = 'adam', loss = 'mean_squared_error')"
   ]
  },
  {
   "cell_type": "markdown",
   "metadata": {
    "id": "YjVuiybYOo7r"
   },
   "source": [
    "### Training the ANN model on the Training set"
   ]
  },
  {
   "cell_type": "code",
   "execution_count": 14,
   "metadata": {
    "colab": {
     "base_uri": "https://localhost:8080/",
     "height": 1000
    },
    "id": "c_vV-tiiA5zn",
    "outputId": "4a2b6ee6-ed75-4698-9069-b250e613803f"
   },
   "outputs": [
    {
     "name": "stdout",
     "output_type": "stream",
     "text": [
      "Epoch 1/100\n",
      "240/240 [==============================] - 1s 838us/step - loss: 206779.9844\n",
      "Epoch 2/100\n",
      "240/240 [==============================] - 0s 747us/step - loss: 205991.4062\n",
      "Epoch 3/100\n",
      "240/240 [==============================] - 0s 780us/step - loss: 205281.6562\n",
      "Epoch 4/100\n",
      "240/240 [==============================] - 0s 1ms/step - loss: 203834.0156\n",
      "Epoch 5/100\n",
      "240/240 [==============================] - 0s 1ms/step - loss: 199757.0781\n",
      "Epoch 6/100\n",
      "240/240 [==============================] - 0s 885us/step - loss: 187870.5156\n",
      "Epoch 7/100\n",
      "240/240 [==============================] - 0s 801us/step - loss: 163139.0781\n",
      "Epoch 8/100\n",
      "240/240 [==============================] - 0s 1ms/step - loss: 125946.4219\n",
      "Epoch 9/100\n",
      "240/240 [==============================] - 0s 1ms/step - loss: 82622.9219\n",
      "Epoch 10/100\n",
      "240/240 [==============================] - 0s 801us/step - loss: 43343.4492\n",
      "Epoch 11/100\n",
      "240/240 [==============================] - 0s 1ms/step - loss: 16843.2188\n",
      "Epoch 12/100\n",
      "240/240 [==============================] - 0s 1ms/step - loss: 4574.7563\n",
      "Epoch 13/100\n",
      "240/240 [==============================] - 0s 1ms/step - loss: 992.8112\n",
      "Epoch 14/100\n",
      "240/240 [==============================] - 0s 1ms/step - loss: 364.0057\n",
      "Epoch 15/100\n",
      "240/240 [==============================] - 0s 1ms/step - loss: 296.1347\n",
      "Epoch 16/100\n",
      "240/240 [==============================] - 0s 1ms/step - loss: 291.2695\n",
      "Epoch 17/100\n",
      "240/240 [==============================] - 0s 1ms/step - loss: 291.0180\n",
      "Epoch 18/100\n",
      "240/240 [==============================] - 0s 970us/step - loss: 290.9883\n",
      "Epoch 19/100\n",
      "240/240 [==============================] - 0s 1ms/step - loss: 290.9896\n",
      "Epoch 20/100\n",
      "240/240 [==============================] - 0s 876us/step - loss: 290.9851\n",
      "Epoch 21/100\n",
      "240/240 [==============================] - 0s 1ms/step - loss: 291.0183\n",
      "Epoch 22/100\n",
      "240/240 [==============================] - 0s 868us/step - loss: 291.0392\n",
      "Epoch 23/100\n",
      "240/240 [==============================] - 0s 1ms/step - loss: 291.0105\n",
      "Epoch 24/100\n",
      "240/240 [==============================] - 0s 950us/step - loss: 290.9763\n",
      "Epoch 25/100\n",
      "240/240 [==============================] - 0s 950us/step - loss: 291.0593\n",
      "Epoch 26/100\n",
      "240/240 [==============================] - 0s 857us/step - loss: 291.0970\n",
      "Epoch 27/100\n",
      "240/240 [==============================] - 0s 1ms/step - loss: 291.1340\n",
      "Epoch 28/100\n",
      "240/240 [==============================] - 0s 984us/step - loss: 291.0645\n",
      "Epoch 29/100\n",
      "240/240 [==============================] - 0s 1ms/step - loss: 290.9854\n",
      "Epoch 30/100\n",
      "240/240 [==============================] - 0s 936us/step - loss: 291.0965\n",
      "Epoch 31/100\n",
      "240/240 [==============================] - 0s 798us/step - loss: 291.1142\n",
      "Epoch 32/100\n",
      "240/240 [==============================] - 0s 1ms/step - loss: 291.1165\n",
      "Epoch 33/100\n",
      "240/240 [==============================] - 0s 1ms/step - loss: 291.1331\n",
      "Epoch 34/100\n",
      "240/240 [==============================] - 0s 1ms/step - loss: 291.1499\n",
      "Epoch 35/100\n",
      "240/240 [==============================] - 0s 1ms/step - loss: 291.3110\n",
      "Epoch 36/100\n",
      "240/240 [==============================] - 0s 915us/step - loss: 291.2208\n",
      "Epoch 37/100\n",
      "240/240 [==============================] - 0s 765us/step - loss: 291.4605\n",
      "Epoch 38/100\n",
      "240/240 [==============================] - 0s 833us/step - loss: 291.4836\n",
      "Epoch 39/100\n",
      "240/240 [==============================] - 0s 831us/step - loss: 291.5490\n",
      "Epoch 40/100\n",
      "240/240 [==============================] - 0s 848us/step - loss: 291.2233\n",
      "Epoch 41/100\n",
      "240/240 [==============================] - 0s 817us/step - loss: 291.1772\n",
      "Epoch 42/100\n",
      "240/240 [==============================] - 0s 1ms/step - loss: 291.4482\n",
      "Epoch 43/100\n",
      "240/240 [==============================] - 0s 1ms/step - loss: 291.3989\n",
      "Epoch 44/100\n",
      "240/240 [==============================] - 0s 968us/step - loss: 291.2061\n",
      "Epoch 45/100\n",
      "240/240 [==============================] - 0s 988us/step - loss: 291.4354\n",
      "Epoch 46/100\n",
      "240/240 [==============================] - 0s 898us/step - loss: 291.4676\n",
      "Epoch 47/100\n",
      "240/240 [==============================] - 0s 1ms/step - loss: 291.6780\n",
      "Epoch 48/100\n",
      "240/240 [==============================] - 0s 1ms/step - loss: 291.7296\n",
      "Epoch 49/100\n",
      "240/240 [==============================] - 0s 1ms/step - loss: 291.7365\n",
      "Epoch 50/100\n",
      "240/240 [==============================] - 0s 1ms/step - loss: 291.4732\n",
      "Epoch 51/100\n",
      "240/240 [==============================] - 0s 1ms/step - loss: 291.5701\n",
      "Epoch 52/100\n",
      "240/240 [==============================] - 0s 1ms/step - loss: 291.2357\n",
      "Epoch 53/100\n",
      "240/240 [==============================] - 0s 988us/step - loss: 291.9155\n",
      "Epoch 54/100\n",
      "240/240 [==============================] - 0s 937us/step - loss: 291.2695\n",
      "Epoch 55/100\n",
      "240/240 [==============================] - 0s 834us/step - loss: 291.3481\n",
      "Epoch 56/100\n",
      "240/240 [==============================] - 0s 1ms/step - loss: 291.2485\n",
      "Epoch 57/100\n",
      "240/240 [==============================] - 0s 1ms/step - loss: 291.3416\n",
      "Epoch 58/100\n",
      "240/240 [==============================] - 0s 956us/step - loss: 291.8412\n",
      "Epoch 59/100\n",
      "240/240 [==============================] - 0s 1ms/step - loss: 291.5191\n",
      "Epoch 60/100\n",
      "240/240 [==============================] - 0s 994us/step - loss: 291.5503\n",
      "Epoch 61/100\n",
      "240/240 [==============================] - 0s 1ms/step - loss: 291.8018\n",
      "Epoch 62/100\n",
      "240/240 [==============================] - 0s 1ms/step - loss: 291.5894\n",
      "Epoch 63/100\n",
      "240/240 [==============================] - 0s 1ms/step - loss: 291.4917\n",
      "Epoch 64/100\n",
      "240/240 [==============================] - 0s 968us/step - loss: 291.5722\n",
      "Epoch 65/100\n",
      "240/240 [==============================] - 0s 983us/step - loss: 291.4602\n",
      "Epoch 66/100\n",
      "240/240 [==============================] - 0s 982us/step - loss: 291.5969\n",
      "Epoch 67/100\n",
      "240/240 [==============================] - 0s 1ms/step - loss: 291.4294\n",
      "Epoch 68/100\n",
      "240/240 [==============================] - 0s 760us/step - loss: 291.5775\n",
      "Epoch 69/100\n",
      "240/240 [==============================] - 0s 748us/step - loss: 291.7194\n",
      "Epoch 70/100\n",
      "240/240 [==============================] - 0s 1ms/step - loss: 291.6457\n",
      "Epoch 71/100\n",
      "240/240 [==============================] - 0s 933us/step - loss: 291.7004\n",
      "Epoch 72/100\n",
      "240/240 [==============================] - 0s 1ms/step - loss: 291.5046\n",
      "Epoch 73/100\n",
      "240/240 [==============================] - 0s 896us/step - loss: 291.6592\n",
      "Epoch 74/100\n",
      "240/240 [==============================] - 0s 823us/step - loss: 291.5269\n",
      "Epoch 75/100\n",
      "240/240 [==============================] - 0s 1ms/step - loss: 291.3660\n",
      "Epoch 76/100\n",
      "240/240 [==============================] - 0s 837us/step - loss: 291.5240\n",
      "Epoch 77/100\n",
      "240/240 [==============================] - 0s 777us/step - loss: 291.5083\n",
      "Epoch 78/100\n",
      "240/240 [==============================] - 0s 894us/step - loss: 291.3926\n",
      "Epoch 79/100\n",
      "240/240 [==============================] - 0s 1ms/step - loss: 291.5831\n",
      "Epoch 80/100\n",
      "240/240 [==============================] - 0s 1ms/step - loss: 291.4652\n",
      "Epoch 81/100\n",
      "240/240 [==============================] - 0s 1ms/step - loss: 291.3738\n",
      "Epoch 82/100\n",
      "240/240 [==============================] - 0s 1ms/step - loss: 291.3532\n",
      "Epoch 83/100\n",
      "240/240 [==============================] - 0s 1ms/step - loss: 291.7686\n",
      "Epoch 84/100\n",
      "240/240 [==============================] - 0s 1ms/step - loss: 291.5111\n",
      "Epoch 85/100\n",
      "240/240 [==============================] - 0s 990us/step - loss: 291.5300\n",
      "Epoch 86/100\n",
      "240/240 [==============================] - 0s 1ms/step - loss: 291.4514\n",
      "Epoch 87/100\n",
      "240/240 [==============================] - 0s 799us/step - loss: 291.4688\n",
      "Epoch 88/100\n",
      "240/240 [==============================] - 0s 775us/step - loss: 291.5238\n",
      "Epoch 89/100\n",
      "240/240 [==============================] - 0s 792us/step - loss: 291.8451\n",
      "Epoch 90/100\n",
      "240/240 [==============================] - 0s 807us/step - loss: 291.4499\n",
      "Epoch 91/100\n",
      "240/240 [==============================] - 0s 764us/step - loss: 291.1198\n",
      "Epoch 92/100\n",
      "240/240 [==============================] - 0s 763us/step - loss: 291.5434\n",
      "Epoch 93/100\n",
      "240/240 [==============================] - 0s 754us/step - loss: 291.7222\n",
      "Epoch 94/100\n",
      "240/240 [==============================] - 0s 808us/step - loss: 291.3502\n",
      "Epoch 95/100\n",
      "240/240 [==============================] - 0s 989us/step - loss: 291.4005\n"
     ]
    },
    {
     "name": "stdout",
     "output_type": "stream",
     "text": [
      "Epoch 96/100\n",
      "240/240 [==============================] - 0s 1ms/step - loss: 291.4300\n",
      "Epoch 97/100\n",
      "240/240 [==============================] - 0s 1ms/step - loss: 291.3736\n",
      "Epoch 98/100\n",
      "240/240 [==============================] - 0s 795us/step - loss: 292.2516\n",
      "Epoch 99/100\n",
      "240/240 [==============================] - 0s 768us/step - loss: 291.9908\n",
      "Epoch 100/100\n",
      "240/240 [==============================] - 0s 1ms/step - loss: 291.5011\n"
     ]
    },
    {
     "data": {
      "text/plain": [
       "<keras.callbacks.History at 0x7fac30c6da60>"
      ]
     },
     "execution_count": 14,
     "metadata": {},
     "output_type": "execute_result"
    }
   ],
   "source": [
    "ann.fit(x_train, y_train, batch_size = 32, epochs = 100)"
   ]
  },
  {
   "cell_type": "markdown",
   "metadata": {
    "id": "0H0zKKNEBLD5"
   },
   "source": [
    "### Predicting the results of the Test set"
   ]
  },
  {
   "cell_type": "code",
   "execution_count": 15,
   "metadata": {
    "colab": {
     "base_uri": "https://localhost:8080/",
     "height": 134
    },
    "id": "IA0yApEmBG1X",
    "outputId": "cb981e1f-9204-4a2a-fece-9d66a6919189"
   },
   "outputs": [
    {
     "name": "stdout",
     "output_type": "stream",
     "text": [
      "60/60 [==============================] - 0s 694us/step\n",
      "[[453.33 431.23]\n",
      " [453.33 460.01]\n",
      " [453.33 461.14]\n",
      " ...\n",
      " [453.33 473.26]\n",
      " [453.33 438.  ]\n",
      " [453.33 463.28]]\n"
     ]
    }
   ],
   "source": [
    "y_pred = ann.predict(x_test)\n",
    "\n",
    "# set the number in 2 decimals after the comma : precision = 2\n",
    "np.set_printoptions(precision=2)\n",
    "\n",
    "print(np.concatenate((y_pred.reshape(len(y_pred),1), y_test.reshape(len(y_test),1)),1))"
   ]
  },
  {
   "cell_type": "markdown",
   "metadata": {},
   "source": [
    "### Evaluating the Model Performance"
   ]
  },
  {
   "cell_type": "code",
   "execution_count": 16,
   "metadata": {},
   "outputs": [
    {
     "data": {
      "text/plain": [
       "-0.005594892162221976"
      ]
     },
     "execution_count": 16,
     "metadata": {},
     "output_type": "execute_result"
    }
   ],
   "source": [
    "from sklearn.metrics import r2_score\n",
    "r2_score(y_test, y_pred)"
   ]
  },
  {
   "cell_type": "markdown",
   "metadata": {},
   "source": [
    "=> When the R2 score is less than 0, it means that the prediction model fails to explain the variation in the dependent variable and performs worse than simply using the mean value. This indicates that the model has not captured the relationship between the input variables and the dependent variable effectively or has been affected by noise."
   ]
  }
 ],
 "metadata": {
  "colab": {
   "provenance": [],
   "toc_visible": true
  },
  "kernelspec": {
   "display_name": "Python 3",
   "language": "python",
   "name": "python3"
  },
  "language_info": {
   "codemirror_mode": {
    "name": "ipython",
    "version": 3
   },
   "file_extension": ".py",
   "mimetype": "text/x-python",
   "name": "python",
   "nbconvert_exporter": "python",
   "pygments_lexer": "ipython3",
   "version": "3.8.8"
  }
 },
 "nbformat": 4,
 "nbformat_minor": 1
}
