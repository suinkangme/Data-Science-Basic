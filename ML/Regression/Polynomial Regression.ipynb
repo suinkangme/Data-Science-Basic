{
 "cells": [
  {
   "cell_type": "markdown",
   "id": "997cfe1c",
   "metadata": {},
   "source": [
    "## Polynomial Regression"
   ]
  },
  {
   "cell_type": "markdown",
   "id": "d6cd5602",
   "metadata": {},
   "source": [
    "### Import the libraries"
   ]
  },
  {
   "cell_type": "code",
   "execution_count": 64,
   "id": "4a8727f4",
   "metadata": {},
   "outputs": [],
   "source": [
    "import numpy as np\n",
    "import pandas as pd\n",
    "import matplotlib.pyplot as plt"
   ]
  },
  {
   "cell_type": "markdown",
   "id": "29fa0246",
   "metadata": {},
   "source": [
    "### Import the dataset"
   ]
  },
  {
   "cell_type": "code",
   "execution_count": 90,
   "id": "f29e0496",
   "metadata": {},
   "outputs": [
    {
     "name": "stdout",
     "output_type": "stream",
     "text": [
      "            Position  Level   Salary\n",
      "0   Business Analyst      1    45000\n",
      "1  Junior Consultant      2    50000\n",
      "2  Senior Consultant      3    60000\n",
      "3            Manager      4    80000\n",
      "4    Country Manager      5   110000\n",
      "5     Region Manager      6   150000\n",
      "6            Partner      7   200000\n",
      "7     Senior Partner      8   300000\n",
      "8            C-level      9   500000\n",
      "9                CEO     10  1000000\n"
     ]
    }
   ],
   "source": [
    "dataset = pd.read_csv('Position_Salaries.csv')\n",
    "print(dataset)"
   ]
  },
  {
   "cell_type": "markdown",
   "id": "7d3f892a",
   "metadata": {},
   "source": [
    "### Spliting the dataset into the Traning set and Test set"
   ]
  },
  {
   "cell_type": "code",
   "execution_count": 66,
   "id": "4b255f7b",
   "metadata": {},
   "outputs": [
    {
     "name": "stdout",
     "output_type": "stream",
     "text": [
      "[[ 1]\n",
      " [ 2]\n",
      " [ 3]\n",
      " [ 4]\n",
      " [ 5]\n",
      " [ 6]\n",
      " [ 7]\n",
      " [ 8]\n",
      " [ 9]\n",
      " [10]]\n",
      "[  45000   50000   60000   80000  110000  150000  200000  300000  500000\n",
      " 1000000]\n"
     ]
    }
   ],
   "source": [
    "# since column 1(position) and column 2(level) are redundant, we only use 'level'column(label of position)\n",
    "x = dataset.iloc[:,1:-1].values\n",
    "y = dataset.iloc[:,-1].values\n",
    "print(x)\n",
    "print(y)"
   ]
  },
  {
   "cell_type": "markdown",
   "id": "d6f04843",
   "metadata": {},
   "source": [
    "### Training the Simple Linear Regression model on the Training set"
   ]
  },
  {
   "cell_type": "code",
   "execution_count": 67,
   "id": "9df748e3",
   "metadata": {},
   "outputs": [],
   "source": [
    "# import the 'LinearRegression' class from sklearn package 'linear_model'\n",
    "from sklearn.linear_model import LinearRegression\n",
    "\n",
    "# create the linear regression model\n",
    "regressor_lin = LinearRegression()\n",
    "\n",
    "# train the model with the whole dataset(x and y)\n",
    "regressor_lin.fit(x,y)\n",
    "pred_y = regressor_lin.predict(x)\n"
   ]
  },
  {
   "cell_type": "markdown",
   "id": "1254cbf1",
   "metadata": {},
   "source": [
    "### Training the Polynomial Regression model on the Training set\n",
    "* final polynomial regression model will be combinated with polynomial features and linear regression\n"
   ]
  },
  {
   "cell_type": "code",
   "execution_count": 70,
   "id": "13673ebb",
   "metadata": {},
   "outputs": [],
   "source": [
    "# preprocess polynomial feature using 'PolynomialFeatures' class\n",
    "from sklearn.preprocessing import PolynomialFeatures\n",
    "\n",
    "# degree(parameter for n) = 2\n",
    "regressor_poly = PolynomialFeatures(degree = 2)\n",
    "\n",
    "# x_poly - fit_transform() apply to x \n",
    "x_poly = regressor_poly.fit_transform(x)\n",
    "\n",
    "# create new linear regression model and train it! \n",
    "regressor_lin2 = LinearRegression()\n",
    "regressor_lin2.fit(x_poly,y)\n",
    "\n",
    "pred_y2 = regressor_lin2.predict(x_poly)"
   ]
  },
  {
   "cell_type": "markdown",
   "id": "9d48f59d",
   "metadata": {},
   "source": [
    "#### => Visualize the results for both model to see the difference of results"
   ]
  },
  {
   "cell_type": "markdown",
   "id": "2d1e9a48",
   "metadata": {},
   "source": [
    "### Visualising the Linear Regression results"
   ]
  },
  {
   "cell_type": "code",
   "execution_count": 76,
   "id": "7e263157",
   "metadata": {},
   "outputs": [
    {
     "data": {
      "text/plain": [
       "Text(0, 0.5, 'Salary')"
      ]
     },
     "execution_count": 76,
     "metadata": {},
     "output_type": "execute_result"
    },
    {
     "data": {
      "image/png": "[encoded data removed]",
      "text/plain": [
       "<Figure size 432x288 with 1 Axes>"
      ]
     },
     "metadata": {
      "needs_background": "light"
     },
     "output_type": "display_data"
    }
   ],
   "source": [
    "# real dataset\n",
    "plt.scatter(x,y, color='red')\n",
    "\n",
    "plt.title('Truth or Bluff (Linear Regression)')\n",
    "plt.xlabel('Position Level')\n",
    "plt.ylabel('Salary')\n",
    "\n",
    "# predicted result\n",
    "plt.plot(x_poly,pred_y)"
   ]
  },
  {
   "cell_type": "markdown",
   "id": "7b86aa32",
   "metadata": {},
   "source": [
    "=> As a result, the linear regression model is not well adapted this dataset\n",
    "> the company gonna pay the employy much higher for level4~9\n",
    "\n",
    "> NOT a good prediction!\n",
    "\n",
    "> the graph is "
   ]
  },
  {
   "cell_type": "markdown",
   "id": "2abd53ab",
   "metadata": {},
   "source": [
    "### Visualising the Polynomial Regression results"
   ]
  },
  {
   "cell_type": "code",
   "execution_count": 56,
   "id": "6fd452f0",
   "metadata": {},
   "outputs": [
    {
     "data": {
      "image/png": "[encoded data removed]",
      "text/plain": [
       "<Figure size 432x288 with 1 Axes>"
      ]
     },
     "metadata": {
      "needs_background": "light"
     },
     "output_type": "display_data"
    }
   ],
   "source": [
    "# real dataset\n",
    "plt.scatter(x,y, color='red')\n",
    "\n",
    "plt.title('Truth or Bluff (Ploynomial Regression)')\n",
    "plt.xlabel('Position Level')\n",
    "plt.ylabel('Salary')\n",
    "\n",
    "# predicted result\n",
    "plt.plot(x,pred_y2)\n",
    "\n",
    "# show the result\n",
    "plt.show()"
   ]
  },
  {
   "cell_type": "markdown",
   "id": "6867b1ad",
   "metadata": {},
   "source": [
    "=> As a result, we achieved a polynomial regression curve which is way more well adpated than linear regression\n",
    "> the predicted salary using polynomial regression get much closer to the real salary\n",
    "\n",
    "> If we change the degree in polynomial features, we will get higher resolution and smoother curve "
   ]
  },
  {
   "cell_type": "markdown",
   "id": "be40922e",
   "metadata": {},
   "source": [
    "### Visualising the Polynomial Regression results (for higher resolution and smoother curve)"
   ]
  },
  {
   "cell_type": "code",
   "execution_count": 51,
   "id": "4d71f408",
   "metadata": {},
   "outputs": [],
   "source": [
    "# preprocess polynomial feature using 'PolynomialFeatures' class\n",
    "from sklearn.preprocessing import PolynomialFeatures\n",
    "\n",
    "# RETRAIN THE MODEL with degree(parameter for n) = 4 \n",
    "regressor_poly = PolynomialFeatures(degree = 4)\n",
    "\n",
    "# x_poly - fit_transform() apply to x \n",
    "x_poly = regressor_poly.fit_transform(x)\n",
    "\n",
    "# create new linear regression model and train it! \n",
    "regressor_lin2 = LinearRegression()\n",
    "regressor_lin2.fit(x_poly,y)\n"
   ]
  },
  {
   "cell_type": "code",
   "execution_count": 61,
   "id": "3c2ab35e",
   "metadata": {},
   "outputs": [
    {
     "data": {
      "image/png": "[encoded data removed]",
      "text/plain": [
       "<Figure size 432x288 with 1 Axes>"
      ]
     },
     "metadata": {
      "needs_background": "light"
     },
     "output_type": "display_data"
    }
   ],
   "source": [
    "# make the curve smoother \n",
    "x_grid = np.arange(min(x), max(x), 0.1)\n",
    "x_grid = x_grid.reshape((len(x_grid), 1))\n",
    "\n",
    "# real dataset\n",
    "plt.scatter(x,y, color='red')\n",
    "\n",
    "# predicted result\n",
    "# pred_y2 = regressor_lin2.predict(x_poly)\n",
    "plt.plot(x_grid, regressor_lin2.predict(regressor_poly.fit_transform(x_grid)), color = 'blue')\n",
    "\n",
    "plt.title('Truth or Bluff (Ploynomial Regression)')\n",
    "plt.xlabel('Position Level')\n",
    "plt.ylabel('Salary')\n",
    "\n",
    "# show the result\n",
    "plt.show()\n"
   ]
  },
  {
   "cell_type": "markdown",
   "id": "0a1fa4d0",
   "metadata": {},
   "source": [
    "=> As a result, the new polynomial regression curve with degree 4 is perfectly fitting to the dataset!\n",
    "> It's OVERFITTING but it's okay since we want to get perfect prediction between level 6 and 7. "
   ]
  },
  {
   "cell_type": "markdown",
   "id": "703070c5",
   "metadata": {},
   "source": [
    "### Predicting a new result with Linear Regression"
   ]
  },
  {
   "cell_type": "code",
   "execution_count": 78,
   "id": "b9774fdb",
   "metadata": {},
   "outputs": [
    {
     "data": {
      "text/plain": [
       "array([330378.78787879])"
      ]
     },
     "execution_count": 78,
     "metadata": {},
     "output_type": "execute_result"
    }
   ],
   "source": [
    "regressor_lin.predict([[6.5]])"
   ]
  },
  {
   "cell_type": "markdown",
   "id": "0f0d89f7",
   "metadata": {},
   "source": [
    "=> the predicted salary for this person is way overthan real salary\n",
    "> Prediction is WRONG ! "
   ]
  },
  {
   "cell_type": "markdown",
   "id": "3d1b45f6",
   "metadata": {},
   "source": [
    "### Predicting a new result with Polynomial Regression"
   ]
  },
  {
   "cell_type": "code",
   "execution_count": 88,
   "id": "c8f8e157",
   "metadata": {},
   "outputs": [
    {
     "data": {
      "text/plain": [
       "array([189498.10606061])"
      ]
     },
     "execution_count": 88,
     "metadata": {},
     "output_type": "execute_result"
    }
   ],
   "source": [
    "regressor_lin2.predict(regressor_poly.fit_transform([[6.5]]))"
   ]
  },
  {
   "cell_type": "markdown",
   "id": "303ed4f2",
   "metadata": {},
   "source": [
    "=> the predicted salary for this person is super closed real salary\n",
    "> In real dataset, the salary between level 6 and 7 is 150000 to 200000\n",
    "> Therefore, it's GOOD Prediction ! "
   ]
  }
 ],
 "metadata": {
  "kernelspec": {
   "display_name": "Python 3",
   "language": "python",
   "name": "python3"
  },
  "language_info": {
   "codemirror_mode": {
    "name": "ipython",
    "version": 3
   },
   "file_extension": ".py",
   "mimetype": "text/x-python",
   "name": "python",
   "nbconvert_exporter": "python",
   "pygments_lexer": "ipython3",
   "version": "3.8.8"
  }
 },
 "nbformat": 4,
 "nbformat_minor": 5
}
