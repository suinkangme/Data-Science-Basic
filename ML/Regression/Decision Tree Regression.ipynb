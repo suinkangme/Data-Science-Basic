{
 "cells": [
  {
   "cell_type": "markdown",
   "id": "997cfe1c",
   "metadata": {},
   "source": [
    "## Decision Tree Regression"
   ]
  },
  {
   "cell_type": "markdown",
   "id": "d6cd5602",
   "metadata": {},
   "source": [
    "### Import the libraries"
   ]
  },
  {
   "cell_type": "code",
   "execution_count": 6,
   "id": "4a8727f4",
   "metadata": {},
   "outputs": [],
   "source": [
    "import numpy as np\n",
    "import matplotlib.pyplot as plt\n",
    "import pandas as pd"
   ]
  },
  {
   "cell_type": "markdown",
   "id": "29fa0246",
   "metadata": {},
   "source": [
    "### Import the dataset"
   ]
  },
  {
   "cell_type": "code",
   "execution_count": 7,
   "id": "f29e0496",
   "metadata": {},
   "outputs": [],
   "source": [
    "dataset = pd.read_csv('Position_Salaries.csv')\n",
    "x = dataset.iloc[:, 1:-1].values\n",
    "y = dataset.iloc[:, -1].values"
   ]
  },
  {
   "cell_type": "markdown",
   "id": "d6f04843",
   "metadata": {},
   "source": [
    "### Training the Decision Tree Regression model on the whole dataset\n",
    "* we did not apply any feature scaling, so we don't need to use fit_transform()"
   ]
  },
  {
   "cell_type": "code",
   "execution_count": 26,
   "id": "9df748e3",
   "metadata": {},
   "outputs": [
    {
     "data": {
      "text/plain": [
       "DecisionTreeRegressor(random_state=0)"
      ]
     },
     "execution_count": 26,
     "metadata": {},
     "output_type": "execute_result"
    }
   ],
   "source": [
    "# DecisionTreeRegressor predicts continuous numerical value\n",
    "# Whereas DecisionTreeClassifier predicts the category\n",
    "\n",
    "from sklearn.tree import DecisionTreeRegressor\n",
    "\n",
    "# parameter tuning is not easy in DecisionTreeRegressor model \n",
    "regressor = DecisionTreeRegressor(random_state = 0)\n",
    "\n",
    "# train the model\n",
    "# we did not apply any feature scaling, so we don't need to use fit_transform()\n",
    "regressor.fit(x,y)"
   ]
  },
  {
   "cell_type": "markdown",
   "id": "2d1e9a48",
   "metadata": {},
   "source": [
    "### Predicting a new result"
   ]
  },
  {
   "cell_type": "code",
   "execution_count": 18,
   "id": "7e263157",
   "metadata": {},
   "outputs": [
    {
     "name": "stdout",
     "output_type": "stream",
     "text": [
      "[150000.]\n"
     ]
    }
   ],
   "source": [
    "print(regressor.predict([[6.5]]))"
   ]
  },
  {
   "cell_type": "markdown",
   "id": "be40922e",
   "metadata": {},
   "source": [
    "### Visualising the Decision Tree Regression results (for higher resolution and smoother curve)\n",
    "* DecisionTreeRegressor model is not the best to use for single feature dataset\n",
    "> It's more adapted for many features dataset\n"
   ]
  },
  {
   "cell_type": "code",
   "execution_count": 24,
   "id": "4d71f408",
   "metadata": {},
   "outputs": [
    {
     "data": {
      "image/png": "[encoded data removed]",
      "text/plain": [
       "<Figure size 432x288 with 1 Axes>"
      ]
     },
     "metadata": {
      "needs_background": "light"
     },
     "output_type": "display_data"
    }
   ],
   "source": [
    "# make the curve smoother \n",
    "x_grid = np.arange(min(x), max(x), 0.1)\n",
    "x_grid = x_grid.reshape((len(x_grid), 1))\n",
    "\n",
    "plt.scatter(x,y, color='r')\n",
    "\n",
    "plt.plot(x_grid,regressor.predict(x_grid))\n",
    "\n",
    "plt.title('Truth or Bluff (Decision Tree Regression)')\n",
    "plt.xlabel('Position Level')\n",
    "plt.ylabel('Salary')\n",
    "\n",
    "plt.show()"
   ]
  },
  {
   "cell_type": "markdown",
   "id": "ae37fd61",
   "metadata": {},
   "source": [
    "=> Decision Tree is not good for 2D dataset \n",
    "* regression curve is not continuous \n",
    "\n",
    "> why? : decision tree regression model takes real result from decision tree\n",
    "\n",
    "> In decision tree, it work by spliting the data through successive nodes. And then, we get different ranges of the features where the prediction is the same  \n"
   ]
  }
 ],
 "metadata": {
  "kernelspec": {
   "display_name": "Python 3",
   "language": "python",
   "name": "python3"
  },
  "language_info": {
   "codemirror_mode": {
    "name": "ipython",
    "version": 3
   },
   "file_extension": ".py",
   "mimetype": "text/x-python",
   "name": "python",
   "nbconvert_exporter": "python",
   "pygments_lexer": "ipython3",
   "version": "3.8.8"
  }
 },
 "nbformat": 4,
 "nbformat_minor": 5
}
