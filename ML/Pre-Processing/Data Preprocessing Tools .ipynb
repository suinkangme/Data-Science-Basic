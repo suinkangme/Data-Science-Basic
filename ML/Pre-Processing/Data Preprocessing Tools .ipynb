{
 "cells": [
  {
   "cell_type": "markdown",
   "id": "3258189a",
   "metadata": {},
   "source": [
    "## Data Processing Tool"
   ]
  },
  {
   "cell_type": "code",
   "execution_count": 1,
   "id": "62b01e4e",
   "metadata": {},
   "outputs": [],
   "source": [
    "# import the libraries\n",
    "import numpy as np\n",
    "import matplotlib.pyplot as plt\n",
    "import pandas as pd"
   ]
  },
  {
   "cell_type": "code",
   "execution_count": 7,
   "id": "1d0494fa",
   "metadata": {},
   "outputs": [
    {
     "name": "stdout",
     "output_type": "stream",
     "text": [
      "   Country   Age   Salary Purchased\n",
      "0   France  44.0  72000.0        No\n",
      "1    Spain  27.0  48000.0       Yes\n",
      "2  Germany  30.0  54000.0        No\n",
      "3    Spain  38.0  61000.0        No\n",
      "4  Germany  40.0      NaN       Yes\n",
      "5   France  35.0  58000.0       Yes\n",
      "6    Spain   NaN  52000.0        No\n",
      "7   France  48.0  79000.0       Yes\n",
      "8  Germany  50.0  83000.0        No\n",
      "9   France  37.0  67000.0       Yes\n"
     ]
    }
   ],
   "source": [
    "# import the dataset\n",
    "dataset = pd.read_csv('Data.csv')\n",
    "print(dataset)"
   ]
  },
  {
   "cell_type": "code",
   "execution_count": 12,
   "id": "985d287f",
   "metadata": {},
   "outputs": [
    {
     "name": "stdout",
     "output_type": "stream",
     "text": [
      "[['France' 44.0 72000.0]\n",
      " ['Spain' 27.0 48000.0]\n",
      " ['Germany' 30.0 54000.0]\n",
      " ['Spain' 38.0 61000.0]\n",
      " ['Germany' 40.0 nan]\n",
      " ['France' 35.0 58000.0]\n",
      " ['Spain' nan 52000.0]\n",
      " ['France' 48.0 79000.0]\n",
      " ['Germany' 50.0 83000.0]\n",
      " ['France' 37.0 67000.0]]\n"
     ]
    }
   ],
   "source": [
    "# print except for the last column(Purchased)\n",
    "x = dataset.iloc[:,:-1].values\n",
    "print(x)"
   ]
  },
  {
   "cell_type": "code",
   "execution_count": 10,
   "id": "d8e4dc14",
   "metadata": {},
   "outputs": [
    {
     "name": "stdout",
     "output_type": "stream",
     "text": [
      "['No' 'Yes' 'No' 'No' 'Yes' 'Yes' 'No' 'Yes' 'No' 'Yes']\n"
     ]
    }
   ],
   "source": [
    "# print the last column value only(Purchased)\n",
    "y = dataset.iloc[:,-1].values\n",
    "print(y)"
   ]
  },
  {
   "cell_type": "markdown",
   "id": "390e384f",
   "metadata": {},
   "source": [
    "### take care missing data with scikit-learn"
   ]
  },
  {
   "cell_type": "code",
   "execution_count": 20,
   "id": "a2e0432a",
   "metadata": {},
   "outputs": [],
   "source": [
    "# take care missing data (mean = avg)\n",
    "from sklearn.impute import SimpleImputer\n",
    "imputer = SimpleImputer(missing_values=np.nan, strategy='mean')\n"
   ]
  },
  {
   "cell_type": "code",
   "execution_count": 21,
   "id": "6cbf677d",
   "metadata": {},
   "outputs": [
    {
     "data": {
      "text/plain": [
       "SimpleImputer()"
      ]
     },
     "execution_count": 21,
     "metadata": {},
     "output_type": "execute_result"
    }
   ],
   "source": [
    "# calculate the training data with imputer(defined above)\n",
    "imputer.fit(x[:,1:3])"
   ]
  },
  {
   "cell_type": "code",
   "execution_count": 22,
   "id": "405aef96",
   "metadata": {},
   "outputs": [],
   "source": [
    "# update the training data from fit()\n",
    "x[:, 1:3] = imputer.transform(x[:, 1:3])"
   ]
  },
  {
   "cell_type": "code",
   "execution_count": 23,
   "id": "8e1940ff",
   "metadata": {},
   "outputs": [
    {
     "name": "stdout",
     "output_type": "stream",
     "text": [
      "[['France' 44.0 72000.0]\n",
      " ['Spain' 27.0 48000.0]\n",
      " ['Germany' 30.0 54000.0]\n",
      " ['Spain' 38.0 61000.0]\n",
      " ['Germany' 40.0 63777.77777777778]\n",
      " ['France' 35.0 58000.0]\n",
      " ['Spain' 38.77777777777778 52000.0]\n",
      " ['France' 48.0 79000.0]\n",
      " ['Germany' 50.0 83000.0]\n",
      " ['France' 37.0 67000.0]]\n"
     ]
    }
   ],
   "source": [
    "# replace the NaN value to mean\n",
    "print(x)"
   ]
  },
  {
   "cell_type": "markdown",
   "id": "9d2201d1",
   "metadata": {},
   "source": [
    "### Encode the categorical data(name, label data to numerical data) \n",
    "- One-Hot encoding for Country column \n",
    "- Label encoding for Salary column(label data)\n",
    "> Label data = Target data (the one we want to predict!!!)\n",
    "\n",
    "\n",
    "- Do Calculation&Update with fit_transform()\n",
    "> fit_transform() : only applicable to training data (test data X)"
   ]
  },
  {
   "cell_type": "code",
   "execution_count": 42,
   "id": "ff24fb71",
   "metadata": {},
   "outputs": [],
   "source": [
    "# encode the independent variable(Country column)\n",
    "from sklearn.compose import ColumnTransformer\n",
    "from sklearn.preprocessing import OneHotEncoder\n",
    "column_transformer = ColumnTransformer(transformers=[('encoder', OneHotEncoder(), [0])], remainder='passthrough')\n"
   ]
  },
  {
   "cell_type": "markdown",
   "id": "2cfd16c2",
   "metadata": {},
   "source": [
    "> remainder='passthrough' \n",
    "\n",
    "this parameter is used in ColumnTransformer and it keeps the untransformed columns after finishing transformation \n",
    "In this case : column[0] is transformed but column[1:-1] are not changede (remained same data format)  "
   ]
  },
  {
   "cell_type": "code",
   "execution_count": 43,
   "id": "93db871f",
   "metadata": {},
   "outputs": [
    {
     "name": "stdout",
     "output_type": "stream",
     "text": [
      "[[1.0 0.0 1.0 0.0 1.0 0.0 0.0 44.0 72000.0]\n",
      " [0.0 1.0 0.0 1.0 0.0 0.0 1.0 27.0 48000.0]\n",
      " [0.0 1.0 0.0 1.0 0.0 1.0 0.0 30.0 54000.0]\n",
      " [0.0 1.0 0.0 1.0 0.0 0.0 1.0 38.0 61000.0]\n",
      " [0.0 1.0 0.0 1.0 0.0 1.0 0.0 40.0 63777.77777777778]\n",
      " [1.0 0.0 1.0 0.0 1.0 0.0 0.0 35.0 58000.0]\n",
      " [0.0 1.0 0.0 1.0 0.0 0.0 1.0 38.77777777777778 52000.0]\n",
      " [1.0 0.0 1.0 0.0 1.0 0.0 0.0 48.0 79000.0]\n",
      " [0.0 1.0 0.0 1.0 0.0 1.0 0.0 50.0 83000.0]\n",
      " [1.0 0.0 1.0 0.0 1.0 0.0 0.0 37.0 67000.0]]\n"
     ]
    }
   ],
   "source": [
    "# the values changed to one-hot encoding by OneHotEncoder()\n",
    "x = np.array(column_transformer.fit_transform(x))\n",
    "print(x)"
   ]
  },
  {
   "cell_type": "code",
   "execution_count": 44,
   "id": "82cae20a",
   "metadata": {},
   "outputs": [],
   "source": [
    "# encode the dependent variable(Salary column)\n",
    "# label data(yes or no) to numerical data\n",
    "from sklearn.preprocessing import LabelEncoder\n",
    "label_encoder = LabelEncoder()\n"
   ]
  },
  {
   "cell_type": "code",
   "execution_count": 45,
   "id": "781c5fbe",
   "metadata": {},
   "outputs": [
    {
     "name": "stdout",
     "output_type": "stream",
     "text": [
      "[0 1 0 0 1 1 0 1 0 1]\n"
     ]
    }
   ],
   "source": [
    "# yes = 1, no = 0\n",
    "y = label_encoder.fit_transform(y)\n",
    "print(y)"
   ]
  },
  {
   "cell_type": "markdown",
   "id": "d7ce37cf",
   "metadata": {},
   "source": [
    "### Split the dataset into the Training set and Test set"
   ]
  },
  {
   "cell_type": "code",
   "execution_count": 48,
   "id": "cc79ca0c",
   "metadata": {},
   "outputs": [],
   "source": [
    "# test size = 0.2 \n",
    "from sklearn.model_selection import train_test_split\n",
    "x_train, x_test, y_train, y_test = train_test_split(x,y,test_size=0.2, random_state =1)\n"
   ]
  },
  {
   "cell_type": "code",
   "execution_count": 47,
   "id": "f3962dc4",
   "metadata": {},
   "outputs": [
    {
     "name": "stdout",
     "output_type": "stream",
     "text": [
      "[[0.0 1.0 0.0 1.0 0.0 0.0 1.0 38.77777777777778 52000.0]\n",
      " [0.0 1.0 0.0 1.0 0.0 1.0 0.0 40.0 63777.77777777778]\n",
      " [1.0 0.0 1.0 0.0 1.0 0.0 0.0 44.0 72000.0]\n",
      " [0.0 1.0 0.0 1.0 0.0 0.0 1.0 38.0 61000.0]\n",
      " [0.0 1.0 0.0 1.0 0.0 0.0 1.0 27.0 48000.0]\n",
      " [1.0 0.0 1.0 0.0 1.0 0.0 0.0 48.0 79000.0]\n",
      " [0.0 1.0 0.0 1.0 0.0 1.0 0.0 50.0 83000.0]\n",
      " [1.0 0.0 1.0 0.0 1.0 0.0 0.0 35.0 58000.0]]\n"
     ]
    }
   ],
   "source": [
    "print(x_train)"
   ]
  },
  {
   "cell_type": "code",
   "execution_count": 52,
   "id": "43d853ea",
   "metadata": {},
   "outputs": [
    {
     "name": "stdout",
     "output_type": "stream",
     "text": [
      "[[0.0 1.0 0.0 1.0 0.0 1.0 0.0 30.0 54000.0]\n",
      " [1.0 0.0 1.0 0.0 1.0 0.0 0.0 37.0 67000.0]]\n"
     ]
    }
   ],
   "source": [
    "print(x_test)"
   ]
  },
  {
   "cell_type": "code",
   "execution_count": 53,
   "id": "24d63350",
   "metadata": {},
   "outputs": [
    {
     "name": "stdout",
     "output_type": "stream",
     "text": [
      "[0 1 0 0 1 1 0 1]\n"
     ]
    }
   ],
   "source": [
    "print(y_train)"
   ]
  },
  {
   "cell_type": "code",
   "execution_count": 54,
   "id": "fdb981fa",
   "metadata": {},
   "outputs": [
    {
     "name": "stdout",
     "output_type": "stream",
     "text": [
      "[0 1]\n"
     ]
    }
   ],
   "source": [
    "print(y_test)"
   ]
  },
  {
   "cell_type": "markdown",
   "id": "9cc782d4",
   "metadata": {},
   "source": [
    "### Feature Scaling\n",
    "- do Stardardization which has normalization(0 to 1)"
   ]
  },
  {
   "cell_type": "code",
   "execution_count": 58,
   "id": "cb9b7d88",
   "metadata": {},
   "outputs": [],
   "source": [
    "from sklearn.preprocessing import StandardScaler\n",
    "standard_scalar = StandardScaler()\n"
   ]
  },
  {
   "cell_type": "code",
   "execution_count": 59,
   "id": "4f0b9404",
   "metadata": {},
   "outputs": [
    {
     "name": "stdout",
     "output_type": "stream",
     "text": [
      "[[-0.77459667  0.77459667 -0.77459667  0.77459667 -0.77459667 -0.57735027\n",
      "   1.29099445 -0.19159184 -1.07812594]\n",
      " [-0.77459667  0.77459667 -0.77459667  0.77459667 -0.77459667  1.73205081\n",
      "  -0.77459667 -0.01411729 -0.07013168]\n",
      " [ 1.29099445 -1.29099445  1.29099445 -1.29099445  1.29099445 -0.57735027\n",
      "  -0.77459667  0.56670851  0.63356243]\n",
      " [-0.77459667  0.77459667 -0.77459667  0.77459667 -0.77459667 -0.57735027\n",
      "   1.29099445 -0.30453019 -0.30786617]\n",
      " [-0.77459667  0.77459667 -0.77459667  0.77459667 -0.77459667 -0.57735027\n",
      "   1.29099445 -1.90180114 -1.42046362]\n",
      " [ 1.29099445 -1.29099445  1.29099445 -1.29099445  1.29099445 -0.57735027\n",
      "  -0.77459667  1.14753431  1.23265336]\n",
      " [-0.77459667  0.77459667 -0.77459667  0.77459667 -0.77459667  1.73205081\n",
      "  -0.77459667  1.43794721  1.57499104]\n",
      " [ 1.29099445 -1.29099445  1.29099445 -1.29099445  1.29099445 -0.57735027\n",
      "  -0.77459667 -0.74014954 -0.56461943]]\n"
     ]
    }
   ],
   "source": [
    "x_train = standard_scalar.fit_transform(x_train)\n",
    "print(x_train)"
   ]
  },
  {
   "cell_type": "code",
   "execution_count": 60,
   "id": "36de4054",
   "metadata": {},
   "outputs": [
    {
     "name": "stdout",
     "output_type": "stream",
     "text": [
      "[[ 2.77555756e-17  1.00000000e+00  2.77555756e-17  1.00000000e+00\n",
      "   2.77555756e-17  1.00000000e+00  0.00000000e+00  3.00000000e+01\n",
      "   5.40000000e+04]\n",
      " [ 1.00000000e+00 -2.77555756e-17  1.00000000e+00 -2.77555756e-17\n",
      "   1.00000000e+00  4.16333634e-17  0.00000000e+00  3.70000000e+01\n",
      "   6.70000000e+04]]\n"
     ]
    }
   ],
   "source": [
    "x_test = standard_scalar.transform(x_test)\n",
    "print(x_test)"
   ]
  },
  {
   "cell_type": "code",
   "execution_count": null,
   "id": "45049fa4",
   "metadata": {},
   "outputs": [],
   "source": []
  }
 ],
 "metadata": {
  "kernelspec": {
   "display_name": "Python 3",
   "language": "python",
   "name": "python3"
  },
  "language_info": {
   "codemirror_mode": {
    "name": "ipython",
    "version": 3
   },
   "file_extension": ".py",
   "mimetype": "text/x-python",
   "name": "python",
   "nbconvert_exporter": "python",
   "pygments_lexer": "ipython3",
   "version": "3.8.8"
  }
 },
 "nbformat": 4,
 "nbformat_minor": 5
}
