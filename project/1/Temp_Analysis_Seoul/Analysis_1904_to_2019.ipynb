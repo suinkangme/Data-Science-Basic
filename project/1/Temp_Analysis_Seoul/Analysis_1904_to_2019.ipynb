
import csv 
f = open('seoul.csv')
data = csv.reader(f)
header = next(data)

for row in data:
    print(row)


* Want to know : (1) When is the most hottest day over the period? 
-> the missing data over the period : mistake or the war period


import csv 

f = open('seoul.csv')
data = csv.reader(f)
header = next(data)

for row in data:
    if row[-1] == '':
        row[-1] = -999
    
    row[-1] = float(row[-1])
    
    if max_temp < row[-1]:
        max_date = row[0]
        max_temp = row[-1]

f.close()
    
print("The day with the highest temperature in Seoul was",max_date, " and it was", max_temp)

The day with the highest temperature in Seoul was 	2018-08-01  and it was 39.6

